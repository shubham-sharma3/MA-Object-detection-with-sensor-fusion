{
 "cells": [
  {
   "attachments": {},
   "cell_type": "markdown",
   "metadata": {},
   "source": [
    "Dependencies"
   ]
  },
  {
   "cell_type": "code",
   "execution_count": 1,
   "metadata": {},
   "outputs": [],
   "source": [
    "import numpy as np\n",
    "import pandas as pd\n",
    "import open3d as o3d\n",
    "import transforms3d as tf3d\n",
    "import csv\n",
    "from pyntcloud import PyntCloud as pt"
   ]
  },
  {
   "attachments": {},
   "cell_type": "markdown",
   "metadata": {},
   "source": [
    "__Data Processing Steps__"
   ]
  },
  {
   "cell_type": "code",
   "execution_count": 2,
   "metadata": {},
   "outputs": [],
   "source": [
    "def data_array_from_column(df, column_name):\n",
    "    vectors = df[column_name].apply(eval)\n",
    "    vectors_df = pd.DataFrame(vectors.tolist())\n",
    "   \n",
    "\n",
    "    return np.asarray(vectors_df)"
   ]
  },
  {
   "attachments": {},
   "cell_type": "markdown",
   "metadata": {},
   "source": [
    "Data Extractions"
   ]
  },
  {
   "cell_type": "code",
   "execution_count": 3,
   "metadata": {},
   "outputs": [],
   "source": [
    "data = pd.read_csv(\"test4.csv\")\n",
    "childsizes_all = data.loc[data['PropertyName']=='childsizes']\n",
    "childsizes_array = data_array_from_column(childsizes_all,'Data')\n",
    "childpositions_all = data.loc[data['PropertyName']=='childpositions']\n",
    "childpositions_array = data_array_from_column(childpositions_all,'Data')\n",
    "childorientations_all = data.loc[data['PropertyName']=='childorientations']\n",
    "childorientations_array = data_array_from_column(childorientations_all,'Data')\n",
    "\n"
   ]
  },
  {
   "attachments": {},
   "cell_type": "markdown",
   "metadata": {},
   "source": [
    "Convert from Radians to Degrees and find relative angles"
   ]
  },
  {
   "cell_type": "code",
   "execution_count": 5,
   "metadata": {},
   "outputs": [],
   "source": [
    "converted_angles = []\n",
    "\n",
    "for i in range(len(childorientations_array)):\n",
    "    for j in range(len(childorientations_array[0])):\n",
    "        for k in range(len(childorientations_array[0][0])):\n",
    "            radian_values = (childorientations_array[i][j][k])*57.2957795\n",
    "            converted_angles.append(radian_values)\n",
    "\n",
    "\n",
    "converted_angles = np.reshape(converted_angles,(6,73,3))"
   ]
  },
  {
   "cell_type": "code",
   "execution_count": 6,
   "metadata": {},
   "outputs": [],
   "source": [
    "only_roll = []\n",
    "\n",
    "for i in range(len(converted_angles)):\n",
    "    for j in range(len(converted_angles[0])):\n",
    "        roll = converted_angles[i][j][0]\n",
    "        only_roll.append(roll)\n",
    "\n",
    "only_roll = np.reshape(only_roll,(6,73))"
   ]
  },
  {
   "cell_type": "code",
   "execution_count": 7,
   "metadata": {},
   "outputs": [],
   "source": [
    "reference_value = [i[0]for i in only_roll]\n",
    "allothervalues =  np.delete(only_roll,0,axis=1)\n",
    "relative_values = []\n",
    "for i in range(len(allothervalues)):\n",
    "    rel_value = allothervalues[i] - reference_value[i]\n",
    "    relative_values.append(rel_value)\n",
    "\n"
   ]
  },
  {
   "attachments": {},
   "cell_type": "markdown",
   "metadata": {},
   "source": [
    "Transformation Matrix\n"
   ]
  },
  {
   "cell_type": "code",
   "execution_count": 8,
   "metadata": {},
   "outputs": [],
   "source": [
    "tf_data = pd.read_csv(\"tfdata.csv\")\n",
    "tf_array = data_array_from_column(tf_data,'Data')"
   ]
  },
  {
   "attachments": {},
   "cell_type": "markdown",
   "metadata": {},
   "source": [
    "Create Pose of the Objects"
   ]
  },
  {
   "cell_type": "code",
   "execution_count": 9,
   "metadata": {},
   "outputs": [],
   "source": [
    "childPose = []\n",
    "for i in range(len(childpositions_array)):\n",
    "    for j in range(len(childpositions_array[0])):\n",
    "        arr1= childpositions_array[i][j]\n",
    "        arr2 = childorientations_array[i][j]\n",
    "        temp_array = np.concatenate((arr1, arr2 ), axis=0)\n",
    "        childPose.append(temp_array)\n",
    "\n",
    "childPose = np.asarray(childPose)   \n",
    "childPose = childPose.reshape(6,73,6)\n"
   ]
  },
  {
   "attachments": {},
   "cell_type": "markdown",
   "metadata": {},
   "source": [
    "Transform from World Frame to Vehicle Frame"
   ]
  },
  {
   "cell_type": "code",
   "execution_count": 10,
   "metadata": {},
   "outputs": [],
   "source": [
    "new_worldframes = []\n",
    "for i in range(len(tf_array)):\n",
    "    temp_array = np.asarray(tf_array[i])\n",
    "    temp_array = temp_array.reshape(4,4)\n",
    "    new_worldframes.append(temp_array)"
   ]
  },
  {
   "cell_type": "code",
   "execution_count": 11,
   "metadata": {},
   "outputs": [],
   "source": [
    "inverse_tf = []\n",
    "for i in range(len(new_worldframes)):\n",
    "    inv_tf = np.linalg.inv(new_worldframes[i])\n",
    "    inverse_tf.append(inv_tf)"
   ]
  },
  {
   "cell_type": "code",
   "execution_count": 12,
   "metadata": {},
   "outputs": [],
   "source": [
    "transformed_position =[]\n",
    "for i in range(len(childPose)):\n",
    "    for j in range(len(childPose[0])):\n",
    "        positionA = np.reshape(childPose[i][j][:3],(3,1))\n",
    "        RotAB = inverse_tf[i][:3,:3]\n",
    "        translationAB = np.reshape(inverse_tf[i][:3,3],(3,1))\n",
    "        alpha = np.dot(RotAB,positionA)\n",
    "        beta = alpha + translationAB\n",
    "        transformed_position.append(beta)\n",
    "\n",
    "\n",
    "transformed_position = np.reshape(transformed_position,(6,73,3))"
   ]
  },
  {
   "attachments": {},
   "cell_type": "markdown",
   "metadata": {},
   "source": [
    "Create  bounding box edge coordinates"
   ]
  },
  {
   "cell_type": "code",
   "execution_count": 13,
   "metadata": {},
   "outputs": [],
   "source": [
    "BB_length = []\n",
    "BB_width = []\n",
    "BB_height = []\n",
    "\n",
    "for i in range(len(childsizes_array)):\n",
    "    for j in range(len(childsizes_array[0])):\n",
    "        length = (childsizes_array[i][j][0])/2\n",
    "        width = (childsizes_array[i][j][1])/2\n",
    "        height = (childsizes_array[i][j][2])/2\n",
    "        \n",
    "        BB_length.append(length)\n",
    "        BB_width.append(width)\n",
    "        BB_height.append(height)\n",
    "\n",
    "BB_length = np.reshape(BB_length,(6,73))\n",
    "BB_height = np.reshape(BB_height,(6,73))\n",
    "BB_width = np.reshape(BB_width,(6,73))"
   ]
  },
  {
   "cell_type": "code",
   "execution_count": 14,
   "metadata": {},
   "outputs": [],
   "source": [
    "BB_coordinates = []\n",
    "\n",
    "for i in range(len(BB_height)):\n",
    "    for j in range(len(BB_height[0])):\n",
    "        x = transformed_position[i][j][0]\n",
    "        y = transformed_position[i][j][1]\n",
    "        z =  transformed_position[i][j][2]\n",
    "\n",
    "        l = BB_length[i][j]\n",
    "        h = BB_height[i][j]\n",
    "        w = BB_width[i][j]\n",
    "\n",
    "        edges = []\n",
    "        e1 = (x-w,y-l,z-h)\n",
    "        e2 = (x-w,y-l,z+h)\n",
    "        e3 = (x-w,y+l,z+h)\n",
    "        e4 = (x-w,y+l,z-h)\n",
    "        e5 = (x+w,y-l,z-h)\n",
    "        e6 = (x+w,y-l,z+h)\n",
    "        e7 = (x+w,y+l,z+h)\n",
    "        e8 = (x+w,y+l,z-h)\n",
    "        edges.append(e1)\n",
    "        edges.append(e2)\n",
    "        edges.append(e3)\n",
    "        edges.append(e4)\n",
    "        edges.append(e5)\n",
    "        edges.append(e6)\n",
    "        edges.append(e7)\n",
    "        edges.append(e8)\n",
    "\n",
    "        BB_coordinates.append(edges)\n",
    "\n",
    "BB_coordinates = np.reshape(BB_coordinates,(6,73,8,3))"
   ]
  },
  {
   "attachments": {},
   "cell_type": "markdown",
   "metadata": {},
   "source": [
    "Save as csv"
   ]
  },
  {
   "cell_type": "code",
   "execution_count": 15,
   "metadata": {},
   "outputs": [],
   "source": [
    "fil_name = 'BB_coordinates'\n",
    "with open(fil_name+'.csv', 'w', newline='') as csvfile:\n",
    "    writer = csv.writer(csvfile, delimiter=',')\n",
    "    writer.writerows(BB_coordinates)"
   ]
  },
  {
   "attachments": {},
   "cell_type": "markdown",
   "metadata": {},
   "source": [
    "Testing one Object from timestep 0.2\n"
   ]
  },
  {
   "cell_type": "code",
   "execution_count": 16,
   "metadata": {},
   "outputs": [],
   "source": [
    "Obj_BB_Coord = BB_coordinates[1][1]\n",
    "loc = \"C:\\\\Users\\\\Proteus\\\\Desktop\\\\RWTH\\\\HiWi\\\\UrbanTestDrive\\\\pcd\\\\test.pcd_simTime-199.99917603ms.pcd\"\n",
    "pc_read = o3d.io.read_point_cloud(loc)\n",
    "pcd_data = np.asarray(pc_read.points)\n"
   ]
  },
  {
   "attachments": {},
   "cell_type": "markdown",
   "metadata": {},
   "source": [
    "Draw PCD"
   ]
  },
  {
   "cell_type": "code",
   "execution_count": 17,
   "metadata": {},
   "outputs": [],
   "source": [
    "pcd1 = o3d.geometry.PointCloud()\n",
    "pcd1.points = o3d.utility.Vector3dVector(pcd_data)\n",
    "o3d.io.write_point_cloud(\"pcd1.ply\",pcd1)\n",
    "\n",
    "pcd2 = o3d.geometry.PointCloud()\n",
    "pcd2.points = o3d.utility.Vector3dVector(Obj_BB_Coord)\n",
    "o3d.io.write_point_cloud(\"pcd2.ply\",pcd2)\n",
    "\n",
    "pcd1_read = o3d.io.read_point_cloud(\"pcd1.ply\")\n",
    "pcd2_read = o3d.io.read_point_cloud(\"pcd2.ply\")\n",
    "\n",
    "pcd1_read.paint_uniform_color([0,0,0.75]) # choose a unique rgb value for each point cloud\n",
    "pcd2_read.paint_uniform_color([0,0.5,0])\n",
    "\n",
    "bb_data = o3d.geometry.AxisAlignedBoundingBox.create_from_points(pcd2.points)\n",
    "obb_data = o3d.geometry.AxisAlignedBoundingBox.get_oriented_bounding_box(bb_data)\n",
    "# o3d.visualization.draw_geometries([pcd1_read,pcd2_read])\n",
    "o3d.visualization.draw_geometries([pcd1_read,obb_data])"
   ]
  }
 ],
 "metadata": {
  "kernelspec": {
   "display_name": "pcd",
   "language": "python",
   "name": "python3"
  },
  "language_info": {
   "codemirror_mode": {
    "name": "ipython",
    "version": 3
   },
   "file_extension": ".py",
   "mimetype": "text/x-python",
   "name": "python",
   "nbconvert_exporter": "python",
   "pygments_lexer": "ipython3",
   "version": "3.8.15"
  },
  "orig_nbformat": 4
 },
 "nbformat": 4,
 "nbformat_minor": 2
}
