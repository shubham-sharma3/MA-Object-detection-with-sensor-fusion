{
 "cells": [
  {
   "cell_type": "code",
   "execution_count": null,
   "metadata": {},
   "outputs": [],
   "source": [
    "import open3d as o3d\n",
    "import cv2\n",
    "import numpy as np\n",
    "import os\n",
    "import pandas as pd\n",
    "from tqdm import tqdm   "
   ]
  },
  {
   "cell_type": "code",
   "execution_count": null,
   "metadata": {},
   "outputs": [],
   "source": [
    "df = pd.read_pickle('result.pkl')"
   ]
  },
  {
   "cell_type": "code",
   "execution_count": null,
   "metadata": {},
   "outputs": [],
   "source": [
    "total_frames = len(df)\n",
    "lidar_bbox_data = {}\n",
    "class_name = []\n",
    "for i, frame in enumerate(df):\n",
    "    lidar_bbox_data[f'{i:06d}'] = frame['boxes_lidar']\n",
    "    class_name.append(frame['name'])"
   ]
  },
  {
   "cell_type": "code",
   "execution_count": null,
   "metadata": {},
   "outputs": [],
   "source": [
    "point_cloud_data = []\n",
    "for i in range(total_frames):\n",
    "    # print(f'Processing frame {i}/{total_frames}')\n",
    "    # pcd = o3d.io.read_point_cloud(f'/velodyne/{i:06d}.bin')\n",
    "    pcd_data = np.load(f'velodyne_depth/{i:06d}.npy').reshape(-1, 4)\n",
    "    np.asarray(pcd_data)\n",
    "    # Reshape and drop reflection values\n",
    "    # points = bin_pcd.reshape((-1, 4))[:, 0:3]\n",
    "    pcd_data = pcd_data[:,:3]\n",
    "    point_cloud_data.append(pcd_data)"
   ]
  },
  {
   "cell_type": "code",
   "execution_count": null,
   "metadata": {},
   "outputs": [],
   "source": [
    "bbox_list = []\n",
    "for i in range(total_frames):\n",
    "    bboxes = []\n",
    "    for bbox in lidar_bbox_data[f'{i:06d}']:\n",
    "        l,w,h = bbox[3:6]\n",
    "        position_bbox = bbox[:3]\n",
    "        rotation_y = bbox[6]\n",
    "        x_corners = [l / 2, l / 2, -l / 2, -l / 2, l / 2, l / 2, -l / 2, -l / 2]\n",
    "        y_corners = [0, 0, 0, 0, -h, -h, -h, -h]\n",
    "        z_corners = [w / 2, -w / 2, -w / 2, w / 2, w / 2, -w / 2, -w / 2, w / 2]\n",
    "\n",
    "        theta = -(np.pi/2 + rotation_y)\n",
    "        R = np.array([[np.cos(theta), 0, np.sin(theta)],\n",
    "                        [0, 1, 0],\n",
    "                        [-np.sin(theta), 0, np.cos(theta)]])\n",
    "        # R = tf3d.euler.euler2mat(0,0,rotation_y[i][j])\n",
    "        corners3d = np.vstack([x_corners, y_corners, z_corners])  # (3, 8)\n",
    "        corners3d = np.dot(R, corners3d).T\n",
    "        corners3d_lidar = corners3d + position_bbox\n",
    "        bboxes.append(corners3d_lidar)\n",
    "    bbox_list.append(bboxes)"
   ]
  },
  {
   "cell_type": "code",
   "execution_count": null,
   "metadata": {},
   "outputs": [],
   "source": [
    "for i in range(len(bbox_list)):\n",
    "    pcd = o3d.geometry.PointCloud()\n",
    "    pcd.points = o3d.utility.Vector3dVector(point_cloud_data[i])\n",
    "    pcd.paint_uniform_color([0, 0.5,0.5])\n",
    "    geometries = [pcd]\n",
    "    for bbox in bbox_list[i]:\n",
    "        pcd2 = o3d.geometry.PointCloud()\n",
    "        pcd2.points = o3d.utility.Vector3dVector(bbox)\n",
    "        pcd2.paint_uniform_color([0, 0, 1])\n",
    "        bb_data = o3d.geometry.AxisAlignedBoundingBox.create_from_points(pcd2.points)\n",
    "        obb_data = o3d.geometry.AxisAlignedBoundingBox.get_oriented_bounding_box(bb_data)\n",
    "        geometries.append(obb_data)\n",
    "    \n",
    "    o3d.visualization.draw_geometries(geometries)"
   ]
  },
  {
   "cell_type": "markdown",
   "metadata": {},
   "source": [
    "alternate visualization method\n"
   ]
  },
  {
   "cell_type": "code",
   "execution_count": null,
   "metadata": {},
   "outputs": [],
   "source": [
    "pc_bin = np.fromfile('velodyne/0000000000.bin', dtype=np.float32).reshape(-1, 4)\n",
    "pcd = o3d.geometry.PointCloud()\n",
    "pcd.points = o3d.utility.Vector3dVector(pc_bin[:, :3])\n",
    "vis = o3d.visualization.Visualizer()\n",
    "vis.create_window()\n",
    "\n",
    "# Add the point cloud to the visualizer\n",
    "vis.add_geometry(pcd)\n",
    "\n",
    "# Add coordinate axes with a length of 1.0\n",
    "vis.add_geometry(o3d.geometry.TriangleMesh.create_coordinate_frame(size=1.0))\n",
    "\n",
    "# Customize the point size\n",
    "opt = vis.get_render_option()\n",
    "opt.point_size = 1.0  # Increase point size\n",
    "opt.background_color = np.asarray([0, 0, 0])  # Set background to black\n",
    "\n",
    "# Run the visualizer to display the point cloud\n",
    "vis.run()\n",
    "\n",
    "# Close the visualizer\n",
    "vis.destroy_window()"
   ]
  }
 ],
 "metadata": {
  "language_info": {
   "name": "python"
  }
 },
 "nbformat": 4,
 "nbformat_minor": 2
}
