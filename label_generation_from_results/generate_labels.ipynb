{
 "cells": [
  {
   "cell_type": "code",
   "execution_count": null,
   "metadata": {},
   "outputs": [],
   "source": [
    "import open3d as o3d\n",
    "import cv2\n",
    "import numpy as np\n",
    "import os\n",
    "import pandas as pd\n",
    "from tqdm import tqdm   "
   ]
  },
  {
   "cell_type": "code",
   "execution_count": null,
   "metadata": {},
   "outputs": [],
   "source": [
    "df = pd.read_pickle('result.pkl')\n",
    "df2 = pd.read_pickle('result2.pkl')"
   ]
  },
  {
   "cell_type": "code",
   "execution_count": null,
   "metadata": {},
   "outputs": [],
   "source": [
    "def to_kitti_format(cls_type, truncation, occlusion, alpha, box2d, h, w, l, loc, ry):\n",
    "        kitti_str = '%s %.2f %d %.2f %.2f %.2f %.2f %.2f %.2f %.2f %.2f %.2f %.2f %.2f %.2f' \\\n",
    "                    % (cls_type, truncation, int(occlusion), alpha, box2d[0], box2d[1],\n",
    "                       box2d[2], box2d[3], h, w, l, loc[0], loc[1], loc[2],\n",
    "                       ry)\n",
    "        return kitti_str"
   ]
  },
  {
   "cell_type": "code",
   "execution_count": null,
   "metadata": {},
   "outputs": [],
   "source": [
    "label_path = '/home/shubham/master_thesis/Virconv_real/VirConv/data/kitti/testing/label_2/'\n",
    "if not os.path.exists(label_path):\n",
    "    os.makedirs(label_path)\n",
    "\n",
    "for i, frame in tqdm(enumerate(df)):\n",
    "    with open(f'{label_path}{i:06d}.txt', 'w') as label_file:\n",
    "        for j in range(len(frame['name'])):\n",
    "            cls_type = df[i]['name'][j]\n",
    "            truncation = df[i]['truncated'][j]\n",
    "            occlusion = df[i]['occluded'][j]\n",
    "            alpha = df[i]['alpha'][j]\n",
    "            box2d = df[i]['bbox'][j]\n",
    "            dimesions = df[i]['dimensions'][j]\n",
    "            l = dimesions[0]\n",
    "            w = dimesions[1]\n",
    "            h = dimesions[2]\n",
    "            location = df[i]['location'][j]\n",
    "            rotation_y = df[i]['rotation_y'][j]\n",
    "            label_file.write(to_kitti_format(cls_type, truncation, occlusion, alpha, box2d, h, w, l, location, rotation_y) + '\\n')\n",
    "    label_file.close()     "
   ]
  }
 ],
 "metadata": {
  "language_info": {
   "name": "python"
  }
 },
 "nbformat": 4,
 "nbformat_minor": 2
}
