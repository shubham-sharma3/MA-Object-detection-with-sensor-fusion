{
 "cells": [
  {
   "cell_type": "code",
   "execution_count": null,
   "metadata": {},
   "outputs": [],
   "source": [
    "import numpy as np \n",
    "import cv2\n",
    "from skimage.metrics import structural_similarity as ssim\n",
    "import os\n",
    "from tqdm import tqdm"
   ]
  },
  {
   "cell_type": "code",
   "execution_count": null,
   "metadata": {},
   "outputs": [],
   "source": [
    "def compare_images(imageA, imageB):\n",
    "    # Compute the Structural Similarity Index (SSIM) between the two images.\n",
    "    s = ssim(imageA, imageB, multichannel=True)\n",
    "    return s"
   ]
  },
  {
   "cell_type": "code",
   "execution_count": null,
   "metadata": {},
   "outputs": [],
   "source": [
    "def find_best_match(target_image_path, image_list_paths):\n",
    "    # Load the target image\n",
    "    target_image = cv2.imread(target_image_path)\n",
    "    target_image = cv2.cvtColor(target_image, cv2.COLOR_BGR2GRAY)\n",
    "\n",
    "    best_match = None\n",
    "    highest_ssim = -1  # SSIM ranges from -1 to 1\n",
    "\n",
    "    for image_path in tqdm(image_list_paths):\n",
    "        # Load each image from the list\n",
    "        image = cv2.imread(image_path)\n",
    "        image = cv2.cvtColor(image, cv2.COLOR_BGR2GRAY)\n",
    "        \n",
    "        # Resize images to the same size if necessary\n",
    "        image = cv2.resize(image, (target_image.shape[1], target_image.shape[0]))\n",
    "\n",
    "        # Calculate SSIM between the target image and the current image\n",
    "        ssim_value = compare_images(target_image, image)\n",
    "\n",
    "        # Update the best match if the current image is more similar\n",
    "        if ssim_value > highest_ssim:\n",
    "            highest_ssim = ssim_value\n",
    "            best_match = image_path\n",
    "        \n",
    "        if highest_ssim >= 1.0:\n",
    "            break\n",
    "\n",
    "    return best_match, highest_ssim"
   ]
  },
  {
   "cell_type": "code",
   "execution_count": null,
   "metadata": {},
   "outputs": [],
   "source": [
    "def list_files_in_folder(folder_path):\n",
    "    # List all files in the given folder\n",
    "    files = [f for f in os.listdir(folder_path) if os.path.isfile(os.path.join(folder_path, f))]\n",
    "    files.sort()\n",
    "    file_paths = [os.path.join(folder_path, f) for f in files]\n",
    "    return file_paths"
   ]
  },
  {
   "cell_type": "code",
   "execution_count": null,
   "metadata": {},
   "outputs": [],
   "source": [
    "target_image_folder = '/home/shubham/master_thesis/Virconv_real/VirConv/data/kitti/testing/image_2'\n",
    "# training_images_folder = '/home/shubham/master_thesis/Inference_data/kitti_training_images'\n",
    "# testing_images_folder = '/home/shubham/master_thesis/Inference_data/kitti_testing_images'\n",
    "kitti_images_folder = '/home/shubham/master_thesis/Virconv_real/VirConv/data/kitti/testing/image_2_og'\n",
    "images_list_paths = list_files_in_folder(kitti_images_folder)\n",
    "target_image_paths = list_files_in_folder(target_image_folder)\n",
    "# testing_list_paths = list_files_in_folder(testing_images_folder)"
   ]
  },
  {
   "cell_type": "code",
   "execution_count": null,
   "metadata": {},
   "outputs": [],
   "source": [
    "# output_file = '/home/shubham/master_thesis/Inference_data/output.txt'\n",
    "# with open(output_file, 'w') as file:\n",
    "for target_image_path in target_image_paths:\n",
    "    best_match, highest_ssim = find_best_match(target_image_path, images_list_paths)\n",
    "    # file.write(f'Target image: {target_image_path}\\n')\n",
    "    # file.write(f'Best match: {best_match}\\n')\n",
    "    # file.write(f'SSIM: {highest_ssim}\\n\\n')\n",
    "    print(f'Target image: {target_image_path}')\n",
    "    print(f'Best match: {best_match}')\n",
    "    print(f'SSIM: {highest_ssim}\\n')"
   ]
  }
 ],
 "metadata": {
  "language_info": {
   "name": "python"
  }
 },
 "nbformat": 4,
 "nbformat_minor": 2
}
